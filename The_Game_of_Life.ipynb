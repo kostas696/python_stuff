{
  "cells": [
    {
      "cell_type": "markdown",
      "metadata": {
        "id": "view-in-github",
        "colab_type": "text"
      },
      "source": [
        "<a href=\"https://colab.research.google.com/github/kostas696/python_stuff/blob/main/The_Game_of_Life.ipynb\" target=\"_parent\"><img src=\"https://colab.research.google.com/assets/colab-badge.svg\" alt=\"Open In Colab\"/></a>"
      ]
    },
    {
      "cell_type": "code",
      "source": [
        "import matplotlib.pyplot as plt"
      ],
      "metadata": {
        "id": "kKm2bD-GJWMp"
      },
      "id": "kKm2bD-GJWMp",
      "execution_count": 31,
      "outputs": []
    },
    {
      "cell_type": "code",
      "execution_count": 37,
      "id": "6faece17",
      "metadata": {
        "id": "6faece17"
      },
      "outputs": [],
      "source": [
        "class GameOfLife(object):\n",
        "\n",
        "    def __init__(self, x_dim, y_dim):\n",
        "        '''\n",
        "        Initializes a GameOfLife object with a grid of specified dimensions.\n",
        "\n",
        "        Parameters:\n",
        "        x_dim (int): The number of rows in the grid.\n",
        "        y_dim (int): The number of columns in the grid.\n",
        "\n",
        "        Returns:\n",
        "        None\n",
        "        '''\n",
        "        self.life_grid = [[0 for _ in range(y_dim)] for _ in range(x_dim)]\n",
        "\n",
        "    def get_grid(self):\n",
        "        '''\n",
        "        Returns the current state of the game grid.\n",
        "\n",
        "        Returns:\n",
        "        list: A 2D list representing the game grid with 1s for live cells and 0s for dead cells.\n",
        "        '''\n",
        "        return self.life_grid\n",
        "\n",
        "    def print_grid(self):\n",
        "        '''\n",
        "        Prints the current state of the game grid in a human-readable format.\n",
        "\n",
        "        Parameters:\n",
        "        None\n",
        "\n",
        "        Returns:\n",
        "        None\n",
        "        '''\n",
        "        for row in self.life_grid:\n",
        "            for cell in row:\n",
        "                print(cell, end=' ')\n",
        "            print(\"\\n\" + \"-\" * (len(row) * 2 - 1))\n",
        "\n",
        "    def populate_grid(self, coord):\n",
        "        '''\n",
        "        Populates the game grid with live cells at the specified coordinates.\n",
        "\n",
        "        Parameters:\n",
        "        coord (list of tuples): A list of 2D coordinates, each represented as a tuple (row, column),\n",
        "                                where live cells should be placed.\n",
        "\n",
        "        Returns:\n",
        "        list: The updated life_grid with the new live cells.\n",
        "        '''\n",
        "        for (row, col) in coord:\n",
        "            self.life_grid[row][col] = 1\n",
        "        return self.life_grid\n",
        "\n",
        "    def make_step(self):\n",
        "        '''\n",
        "        Updates the game grid based on the rules of Conway's Game of Life.\n",
        "\n",
        "        Parameters:\n",
        "        None\n",
        "\n",
        "        Returns:\n",
        "        list: The updated life_grid after applying the rules for one step.\n",
        "        '''\n",
        "        x_dim = len(self.life_grid)\n",
        "        y_dim = len(self.life_grid[0])\n",
        "        # Create a new grid to store the next state\n",
        "        new_grid = [[0 for _ in range(y_dim)] for _ in range(x_dim)]\n",
        "\n",
        "        # Define neighbors' directions (horizontally, vertically, and diagonally)\n",
        "        directions = [(i, j) for i in range(-1, 2) for j in range(-1, 2) if i != 0 or j != 0]\n",
        "\n",
        "        # Iterate over each cell in the current grid\n",
        "        for i in range(x_dim):\n",
        "            for j in range(y_dim):\n",
        "                live_neighbors = 0\n",
        "\n",
        "                # Iterate over its neighbors and count live neighbors\n",
        "                for direction in directions:\n",
        "                    ni, nj = i + direction[0], j + direction[1]\n",
        "\n",
        "                    if 0 <= ni < x_dim and 0 <= nj < y_dim and self.life_grid[ni][nj] == 1:\n",
        "                        live_neighbors += 1\n",
        "\n",
        "                # Apply Game of Life rules\n",
        "                if self.life_grid[i][j] == 1:\n",
        "                    if live_neighbors < 2 or live_neighbors > 3:\n",
        "                        new_grid[i][j] = 0  # Cell dies\n",
        "                    else:\n",
        "                        new_grid[i][j] = 1  # Cell lives on\n",
        "                else:\n",
        "                    if live_neighbors == 3:\n",
        "                        new_grid[i][j] = 1  # Cell becomes alive\n",
        "\n",
        "        # Update the current grid with the new state\n",
        "        self.life_grid = new_grid\n",
        "\n",
        "    def make_n_steps(self, n):\n",
        "        '''\n",
        "        Simulates the Game of Life for n steps by repeatedly applying the make_step method.\n",
        "\n",
        "        Parameters:\n",
        "        n (int): The number of steps to advance the game.\n",
        "\n",
        "        Returns:\n",
        "        None\n",
        "        '''\n",
        "        for _ in range(n):\n",
        "            self.make_step()\n",
        "\n",
        "    def draw_grid(self):\n",
        "        '''\n",
        "        Draws the current state of the game grid as a visual representation using matplotlib.\n",
        "\n",
        "        Parameters:\n",
        "        None\n",
        "\n",
        "        Returns:\n",
        "        None\n",
        "        '''\n",
        "        x_dim = len(self.life_grid)\n",
        "        y_dim = len(self.life_grid[0])\n",
        "\n",
        "        fig, ax = plt.subplots(figsize=(8, 8))\n",
        "        ax.set_aspect('equal')\n",
        "        ax.set_xticks(range(y_dim + 1))\n",
        "        ax.set_yticks(range(x_dim + 1))\n",
        "        ax.grid(which='both')\n",
        "\n",
        "        for i in range(x_dim):\n",
        "            for j in range(y_dim):\n",
        "                cell_color = 'green' if self.life_grid[i][j] == 1 else 'white'\n",
        "                ax.add_patch(plt.Rectangle((j, x_dim - i - 1), 1, 1, color=cell_color, ec='black'))\n",
        "\n",
        "        plt.xlim(0, y_dim)\n",
        "        plt.ylim(0, x_dim)\n",
        "        plt.gca().invert_yaxis()\n",
        "        plt.axis('off')\n",
        "        plt.show()"
      ]
    },
    {
      "cell_type": "markdown",
      "source": [
        "TEST CODE"
      ],
      "metadata": {
        "id": "AIpKhxpBFgg5"
      },
      "id": "AIpKhxpBFgg5"
    },
    {
      "cell_type": "code",
      "source": [
        "game = GameOfLife(5, 5)\n",
        "grid = game.get_grid()\n",
        "print(grid)"
      ],
      "metadata": {
        "colab": {
          "base_uri": "https://localhost:8080/"
        },
        "id": "LoV1-tG3DxTl",
        "outputId": "410b110e-cb2f-4b39-84cd-c01a55791f22"
      },
      "id": "LoV1-tG3DxTl",
      "execution_count": 38,
      "outputs": [
        {
          "output_type": "stream",
          "name": "stdout",
          "text": [
            "[[0, 0, 0, 0, 0], [0, 0, 0, 0, 0], [0, 0, 0, 0, 0], [0, 0, 0, 0, 0], [0, 0, 0, 0, 0]]\n"
          ]
        }
      ]
    },
    {
      "cell_type": "code",
      "source": [
        "game = GameOfLife(5, 5)\n",
        "game.print_grid()"
      ],
      "metadata": {
        "colab": {
          "base_uri": "https://localhost:8080/"
        },
        "id": "TophY38-EVcP",
        "outputId": "af51d624-49ff-4f12-8dc4-33415c76eaa4"
      },
      "id": "TophY38-EVcP",
      "execution_count": 39,
      "outputs": [
        {
          "output_type": "stream",
          "name": "stdout",
          "text": [
            "0 0 0 0 0 \n",
            "---------\n",
            "0 0 0 0 0 \n",
            "---------\n",
            "0 0 0 0 0 \n",
            "---------\n",
            "0 0 0 0 0 \n",
            "---------\n",
            "0 0 0 0 0 \n",
            "---------\n"
          ]
        }
      ]
    },
    {
      "cell_type": "code",
      "source": [
        "game = GameOfLife(5, 5)\n",
        "coordinates = [(1, 2), (2, 2), (2, 3), (3, 2)]  # Specify the coordinates of cells to be marked as 'alive'\n",
        "game.populate_grid(coordinates)\n",
        "game.print_grid()"
      ],
      "metadata": {
        "colab": {
          "base_uri": "https://localhost:8080/"
        },
        "id": "nDkS2wstE31o",
        "outputId": "4ec00e0b-1fa4-4ed3-f92e-a35c67e2263b"
      },
      "id": "nDkS2wstE31o",
      "execution_count": 40,
      "outputs": [
        {
          "output_type": "stream",
          "name": "stdout",
          "text": [
            "0 0 0 0 0 \n",
            "---------\n",
            "0 0 1 0 0 \n",
            "---------\n",
            "0 0 1 1 0 \n",
            "---------\n",
            "0 0 1 0 0 \n",
            "---------\n",
            "0 0 0 0 0 \n",
            "---------\n"
          ]
        }
      ]
    },
    {
      "cell_type": "code",
      "source": [
        "# Create an instance of the GameOfLife class with a 5x5 grid\n",
        "game = GameOfLife(5, 5)\n",
        "\n",
        "# Populate the grid with an initial configuration\n",
        "initial_config = [(1, 2), (2, 2), (2, 3), (3, 2)]\n",
        "game.populate_grid(initial_config)\n",
        "\n",
        "# Print the initial state of the grid\n",
        "print(\"Initial State:\")\n",
        "game.print_grid()\n",
        "\n",
        "# Make a step in the game\n",
        "game.make_step()\n",
        "\n",
        "# Print the updated state of the grid after one step\n",
        "print(\"State after one step:\")\n",
        "game.print_grid()\n",
        "\n",
        "# Make 5 more steps\n",
        "game.make_n_steps(5)\n",
        "\n",
        "# Print the state of the grid after 6 steps\n",
        "print(\"State after 6 steps:\")\n",
        "game.print_grid()"
      ],
      "metadata": {
        "colab": {
          "base_uri": "https://localhost:8080/"
        },
        "id": "7Xn8EI7PIdb_",
        "outputId": "c5c852f7-83cf-405d-9dba-6e0e4335a921"
      },
      "id": "7Xn8EI7PIdb_",
      "execution_count": 41,
      "outputs": [
        {
          "output_type": "stream",
          "name": "stdout",
          "text": [
            "Initial State:\n",
            "0 0 0 0 0 \n",
            "---------\n",
            "0 0 1 0 0 \n",
            "---------\n",
            "0 0 1 1 0 \n",
            "---------\n",
            "0 0 1 0 0 \n",
            "---------\n",
            "0 0 0 0 0 \n",
            "---------\n",
            "State after one step:\n",
            "0 0 0 0 0 \n",
            "---------\n",
            "0 0 1 1 0 \n",
            "---------\n",
            "0 1 1 1 0 \n",
            "---------\n",
            "0 0 1 1 0 \n",
            "---------\n",
            "0 0 0 0 0 \n",
            "---------\n",
            "State after 6 steps:\n",
            "0 0 1 0 0 \n",
            "---------\n",
            "0 1 1 1 0 \n",
            "---------\n",
            "1 1 0 1 1 \n",
            "---------\n",
            "0 1 1 1 0 \n",
            "---------\n",
            "0 0 1 0 0 \n",
            "---------\n"
          ]
        }
      ]
    },
    {
      "cell_type": "code",
      "source": [
        "# Create an instance of the GameOfLife class with a 5x5 grid\n",
        "game = GameOfLife(5, 5)\n",
        "\n",
        "# Populate the grid with an initial configuration\n",
        "initial_config = [(1, 2), (2, 2), (2, 3), (3, 2)]\n",
        "game.populate_grid(initial_config)\n",
        "\n",
        "# Print the initial state of the grid\n",
        "print(\"Initial State (Printed):\")\n",
        "game.print_grid()\n",
        "\n",
        "# Draw the initial state of the grid\n",
        "print(\"Initial State (Illustrated):\")\n",
        "game.draw_grid()\n",
        "\n",
        "# Make 5 steps in the game\n",
        "game.make_n_steps(5)\n",
        "\n",
        "# Print the state of the grid after 5 steps\n",
        "print(\"State after 5 steps (Printed):\")\n",
        "game.print_grid()\n",
        "\n",
        "# Draw the state of the grid after 5 steps\n",
        "print(\"State after 5 steps (Illustrated):\")\n",
        "game.draw_grid()"
      ],
      "metadata": {
        "colab": {
          "base_uri": "https://localhost:8080/",
          "height": 1000
        },
        "id": "Shq0tFRqJp7D",
        "outputId": "f62628f6-3924-487c-d359-bf6e91e272ce"
      },
      "id": "Shq0tFRqJp7D",
      "execution_count": 42,
      "outputs": [
        {
          "output_type": "stream",
          "name": "stdout",
          "text": [
            "Initial State (Printed):\n",
            "0 0 0 0 0 \n",
            "---------\n",
            "0 0 1 0 0 \n",
            "---------\n",
            "0 0 1 1 0 \n",
            "---------\n",
            "0 0 1 0 0 \n",
            "---------\n",
            "0 0 0 0 0 \n",
            "---------\n",
            "Initial State (Illustrated):\n"
          ]
        },
        {
          "output_type": "display_data",
          "data": {
            "text/plain": [
              "<Figure size 800x800 with 1 Axes>"
            ],
            "image/png": "[encoded data removed]"
          },
          "metadata": {}
        },
        {
          "output_type": "stream",
          "name": "stdout",
          "text": [
            "State after 5 steps (Printed):\n",
            "0 0 1 0 0 \n",
            "---------\n",
            "0 1 0 1 0 \n",
            "---------\n",
            "1 0 0 0 1 \n",
            "---------\n",
            "0 1 0 1 0 \n",
            "---------\n",
            "0 0 1 0 0 \n",
            "---------\n",
            "State after 5 steps (Illustrated):\n"
          ]
        },
        {
          "output_type": "display_data",
          "data": {
            "text/plain": [
              "<Figure size 800x800 with 1 Axes>"
            ],
            "image/png": "[encoded data removed]"
          },
          "metadata": {}
        }
      ]
    },
    {
      "cell_type": "code",
      "source": [
        "game = GameOfLife(5, 5)\n",
        "help(game.populate_grid)"
      ],
      "metadata": {
        "colab": {
          "base_uri": "https://localhost:8080/"
        },
        "id": "BQTN4LGtMFPj",
        "outputId": "6d1add09-23a2-4aee-f88d-e87bed9328c0"
      },
      "id": "BQTN4LGtMFPj",
      "execution_count": 43,
      "outputs": [
        {
          "output_type": "stream",
          "name": "stdout",
          "text": [
            "Help on method populate_grid in module __main__:\n",
            "\n",
            "populate_grid(coord) method of __main__.GameOfLife instance\n",
            "    Populates the game grid with live cells at the specified coordinates.\n",
            "    \n",
            "    Parameters:\n",
            "    coord (list of tuples): A list of 2D coordinates, each represented as a tuple (row, column), \n",
            "                            where live cells should be placed.\n",
            "    \n",
            "    Returns:\n",
            "    list: The updated life_grid with the new live cells.\n",
            "\n"
          ]
        }
      ]
    },
    {
      "cell_type": "code",
      "source": [
        "# Import necessary libraries\n",
        "import time\n",
        "\n",
        "# Create a GameOfLife object with a 30x30 grid\n",
        "game = GameOfLife(30, 30)\n",
        "\n",
        "# Populate the grid with the specified live cells\n",
        "initial_configuration = [(14, 15), (15, 15), (16, 15), (15, 14), (16, 16), (14, 16), (15, 17)]\n",
        "game.populate_grid(initial_configuration)\n",
        "\n",
        "# Keep track of the previous state to check for a steady state\n",
        "previous_state = game.get_grid()\n",
        "\n",
        "# Run the game until it reaches a steady state\n",
        "while True:\n",
        "    game.make_step()\n",
        "    current_state = game.get_grid()\n",
        "\n",
        "    # Check if the current state matches the previous state (steady state)\n",
        "    if current_state == previous_state:\n",
        "        break\n",
        "\n",
        "    # Update the previous state\n",
        "    previous_state = current_state\n",
        "\n",
        "# Get the final pattern of live and dead cells\n",
        "final_pattern = game.get_grid()\n",
        "\n",
        "# Print the final pattern (you can also visualize it with draw_grid)\n",
        "print(\"Final Pattern:\")\n",
        "for row in final_pattern:\n",
        "    for cell in row:\n",
        "        if cell == 1:\n",
        "            print(\"O\", end=' ')  # Live cell\n",
        "        else:\n",
        "            print(\".\", end=' ')  # Dead cell\n",
        "    print()"
      ],
      "metadata": {
        "colab": {
          "base_uri": "https://localhost:8080/"
        },
        "id": "svUAvHrIOHt6",
        "outputId": "f3427b1a-dc3d-44b7-b625-ebdbda69373c"
      },
      "id": "svUAvHrIOHt6",
      "execution_count": 44,
      "outputs": [
        {
          "output_type": "stream",
          "name": "stdout",
          "text": [
            "Final Pattern:\n",
            ". . . . . . . . . . . . . . . . . . . . . . . . . . . . . . \n",
            ". . . . . . . . . . . . . . . . . . . . . . . . . . . . . . \n",
            ". . . . . . . . . . . . . . . . . . . . . . . . . . . . . . \n",
            ". . . . . . . . . . . . . . . . . . . . . . . . . . . . . . \n",
            ". . . . . . . . . . . . . . . . . . . . . . . . . . . . . . \n",
            ". . . . . . . . . . . . . . . . . . . . . . . . . . . . . . \n",
            ". . . . . . . . . . . . . . . . . . . . . . . . . . . . . . \n",
            ". . . . . . . . . . . . . . . . . . . . . . . . . . . . . . \n",
            ". . . . . . . . . . . . . . . . . . . . . . . . . . . . . . \n",
            ". . . . . . . . . . . . . . . O . . . . . . . . . . . . . . \n",
            ". . . . . . . . . . . . . . O . O . . . . . . . . . . . . . \n",
            ". . . . . . . . . . . . . . O . O . . . . . . . . . . . . . \n",
            ". . . . . . . . . . . . . . . O . . . . . . . . . . . . . . \n",
            ". . . . . . . . . . . . . . . . . . . . . . . . . . . . . . \n",
            ". . . . . . . . . . O O . . . . . . . O O . . . . . . . . . \n",
            ". . . . . . . . . O . . O . . . . . O . . O . . . . . . . . \n",
            ". . . . . . . . . . O O . . . . . . . O O . . . . . . . . . \n",
            ". . . . . . . . . . . . . . . . . . . . . . . . . . . . . . \n",
            ". . . . . . . . . . . . . . . O . . . . . . . . . . . . . . \n",
            ". . . . . . . . . . . . . . O . O . . . . . . . . . . . . . \n",
            ". . . . . . . . . . . . . . O . O . . . . . . . . . . . . . \n",
            ". . . . . . . . . . . . . . . O . . . . . . . . . . . . . . \n",
            ". . . . . . . . . . . . . . . . . . . . . . . . . . . . . . \n",
            ". . . . . . . . . . . . . . . . . . . . . . . . . . . . . . \n",
            ". . . . . . . . . . . . . . . . . . . . . . . . . . . . . . \n",
            ". . . . . . . . . . . . . . . . . . . . . . . . . . . . . . \n",
            ". . . . . . . . . . . . . . . . . . . . . . . . . . . . . . \n",
            ". . . . . . . . . . . . . . . . . . . . . . . . . . . . . . \n",
            ". . . . . . . . . . . . . . . . . . . . . . . . . . . . . . \n",
            ". . . . . . . . . . . . . . . . . . . . . . . . . . . . . . \n"
          ]
        }
      ]
    },
    {
      "cell_type": "code",
      "source": [
        "# Create a GameOfLife object with a 30x30 grid\n",
        "game = GameOfLife(30, 30)\n",
        "\n",
        "# Populate the grid with the specified live cells\n",
        "initial_configuration = [(14, 15), (15, 15), (16, 15), (15, 14), (16, 16), (14, 16), (15, 17)]\n",
        "game.populate_grid(initial_configuration)\n",
        "\n",
        "# Keep track of the previous state to check for a steady state\n",
        "previous_state = game.get_grid()\n",
        "\n",
        "# Initialize a step counter\n",
        "steps = 0\n",
        "\n",
        "# Run the game until it reaches a steady state\n",
        "while True:\n",
        "    game.make_step()\n",
        "    current_state = game.get_grid()\n",
        "\n",
        "    # Check if the current state matches the previous state (steady state)\n",
        "    if current_state == previous_state:\n",
        "        break\n",
        "\n",
        "    # Update the previous state\n",
        "    previous_state = current_state\n",
        "\n",
        "    # Increment the step counter\n",
        "    steps += 1\n",
        "\n",
        "# Get the final pattern of live and dead cells\n",
        "final_pattern = game.get_grid()\n",
        "\n",
        "# Print the number of steps and the final pattern\n",
        "print(f\"Steps to reach a steady state: {steps}\")\n",
        "print(\"Final Pattern:\")\n",
        "for row in final_pattern:\n",
        "    for cell in row:\n",
        "        if cell == 1:\n",
        "            print(\"O\", end=' ')  # Live cell\n",
        "        else:\n",
        "            print(\".\", end=' ')  # Dead cell\n",
        "    print()"
      ],
      "metadata": {
        "colab": {
          "base_uri": "https://localhost:8080/"
        },
        "id": "mdKaMpdnOfUu",
        "outputId": "b16a85bf-c011-45b9-b847-05f03f4b7320"
      },
      "id": "mdKaMpdnOfUu",
      "execution_count": 46,
      "outputs": [
        {
          "output_type": "stream",
          "name": "stdout",
          "text": [
            "Steps to reach a steady state: 16\n",
            "Final Pattern:\n",
            ". . . . . . . . . . . . . . . . . . . . . . . . . . . . . . \n",
            ". . . . . . . . . . . . . . . . . . . . . . . . . . . . . . \n",
            ". . . . . . . . . . . . . . . . . . . . . . . . . . . . . . \n",
            ". . . . . . . . . . . . . . . . . . . . . . . . . . . . . . \n",
            ". . . . . . . . . . . . . . . . . . . . . . . . . . . . . . \n",
            ". . . . . . . . . . . . . . . . . . . . . . . . . . . . . . \n",
            ". . . . . . . . . . . . . . . . . . . . . . . . . . . . . . \n",
            ". . . . . . . . . . . . . . . . . . . . . . . . . . . . . . \n",
            ". . . . . . . . . . . . . . . . . . . . . . . . . . . . . . \n",
            ". . . . . . . . . . . . . . . O . . . . . . . . . . . . . . \n",
            ". . . . . . . . . . . . . . O . O . . . . . . . . . . . . . \n",
            ". . . . . . . . . . . . . . O . O . . . . . . . . . . . . . \n",
            ". . . . . . . . . . . . . . . O . . . . . . . . . . . . . . \n",
            ". . . . . . . . . . . . . . . . . . . . . . . . . . . . . . \n",
            ". . . . . . . . . . O O . . . . . . . O O . . . . . . . . . \n",
            ". . . . . . . . . O . . O . . . . . O . . O . . . . . . . . \n",
            ". . . . . . . . . . O O . . . . . . . O O . . . . . . . . . \n",
            ". . . . . . . . . . . . . . . . . . . . . . . . . . . . . . \n",
            ". . . . . . . . . . . . . . . O . . . . . . . . . . . . . . \n",
            ". . . . . . . . . . . . . . O . O . . . . . . . . . . . . . \n",
            ". . . . . . . . . . . . . . O . O . . . . . . . . . . . . . \n",
            ". . . . . . . . . . . . . . . O . . . . . . . . . . . . . . \n",
            ". . . . . . . . . . . . . . . . . . . . . . . . . . . . . . \n",
            ". . . . . . . . . . . . . . . . . . . . . . . . . . . . . . \n",
            ". . . . . . . . . . . . . . . . . . . . . . . . . . . . . . \n",
            ". . . . . . . . . . . . . . . . . . . . . . . . . . . . . . \n",
            ". . . . . . . . . . . . . . . . . . . . . . . . . . . . . . \n",
            ". . . . . . . . . . . . . . . . . . . . . . . . . . . . . . \n",
            ". . . . . . . . . . . . . . . . . . . . . . . . . . . . . . \n",
            ". . . . . . . . . . . . . . . . . . . . . . . . . . . . . . \n"
          ]
        }
      ]
    },
    {
      "cell_type": "code",
      "source": [
        "# Create a GameOfLife object with a 30x30 grid\n",
        "game = GameOfLife(30, 30)\n",
        "\n",
        "# Populate the grid with the specified live cells\n",
        "initial_configuration = [(10, 10), (10, 13), (11, 14), (12, 10), (12, 14), (13, 11), (13, 12), (13, 13), (13, 14)]\n",
        "game.populate_grid(initial_configuration)\n",
        "\n",
        "# Run the game for 12 steps\n",
        "for _ in range(12):\n",
        "    game.make_step()\n",
        "\n",
        "# Get the final pattern of live and dead cells\n",
        "final_pattern = game.get_grid()\n",
        "\n",
        "# Print the final pattern (you can also visualize it with draw_grid)\n",
        "print(\"Final Pattern after 12 steps:\")\n",
        "for row in final_pattern:\n",
        "    for cell in row:\n",
        "        if cell == 1:\n",
        "            print(\"O\", end=' ')  # Live cell\n",
        "        else:\n",
        "            print(\".\", end=' ')  # Dead cell\n",
        "    print()"
      ],
      "metadata": {
        "colab": {
          "base_uri": "https://localhost:8080/"
        },
        "id": "HFRlOx4EQrYg",
        "outputId": "733bc31c-4d53-412e-f285-20c6dd81fa50"
      },
      "id": "HFRlOx4EQrYg",
      "execution_count": 47,
      "outputs": [
        {
          "output_type": "stream",
          "name": "stdout",
          "text": [
            "Final Pattern after 12 steps:\n",
            ". . . . . . . . . . . . . . . . . . . . . . . . . . . . . . \n",
            ". . . . . . . . . . . . . . . . . . . . . . . . . . . . . . \n",
            ". . . . . . . . . . . . . . . . . . . . . . . . . . . . . . \n",
            ". . . . . . . . . . . . . . . . . . . . . . . . . . . . . . \n",
            ". . . . . . . . . . . . . . . . . . . . . . . . . . . . . . \n",
            ". . . . . . . . . . . . . . . . . . . . . . . . . . . . . . \n",
            ". . . . . . . . . . . . . . . . . . . . . . . . . . . . . . \n",
            ". . . . . . . . . . . . . . . . . . . . . . . . . . . . . . \n",
            ". . . . . . . . . . . . . . . . . . . . . . . . . . . . . . \n",
            ". . . . . . . . . . . . . . . . . . . . . . . . . . . . . . \n",
            ". . . . . . . . . . . . . . . . O . . O . . . . . . . . . . \n",
            ". . . . . . . . . . . . . . . . . . . . O . . . . . . . . . \n",
            ". . . . . . . . . . . . . . . . O . . . O . . . . . . . . . \n",
            ". . . . . . . . . . . . . . . . . O O O O . . . . . . . . . \n",
            ". . . . . . . . . . . . . . . . . . . . . . . . . . . . . . \n",
            ". . . . . . . . . . . . . . . . . . . . . . . . . . . . . . \n",
            ". . . . . . . . . . . . . . . . . . . . . . . . . . . . . . \n",
            ". . . . . . . . . . . . . . . . . . . . . . . . . . . . . . \n",
            ". . . . . . . . . . . . . . . . . . . . . . . . . . . . . . \n",
            ". . . . . . . . . . . . . . . . . . . . . . . . . . . . . . \n",
            ". . . . . . . . . . . . . . . . . . . . . . . . . . . . . . \n",
            ". . . . . . . . . . . . . . . . . . . . . . . . . . . . . . \n",
            ". . . . . . . . . . . . . . . . . . . . . . . . . . . . . . \n",
            ". . . . . . . . . . . . . . . . . . . . . . . . . . . . . . \n",
            ". . . . . . . . . . . . . . . . . . . . . . . . . . . . . . \n",
            ". . . . . . . . . . . . . . . . . . . . . . . . . . . . . . \n",
            ". . . . . . . . . . . . . . . . . . . . . . . . . . . . . . \n",
            ". . . . . . . . . . . . . . . . . . . . . . . . . . . . . . \n",
            ". . . . . . . . . . . . . . . . . . . . . . . . . . . . . . \n",
            ". . . . . . . . . . . . . . . . . . . . . . . . . . . . . . \n"
          ]
        }
      ]
    },
    {
      "cell_type": "code",
      "source": [
        "# Create a GameOfLife object with a 30x30 grid\n",
        "game = GameOfLife(30, 30)\n",
        "\n",
        "# Populate the grid with the specified live cells\n",
        "initial_configuration = [\n",
        "    (14, 16), (15, 16), (16, 16), (18, 16), (19, 16), (20, 16),\n",
        "    (16, 14), (16, 15), (16, 17), (16, 18),\n",
        "    (18, 14), (18, 15), (18, 17), (18, 18),\n",
        "    (14, 18), (15, 18), (16, 18), (18, 18), (19, 18), (20, 18)\n",
        "]\n",
        "game.populate_grid(initial_configuration)\n",
        "\n",
        "# Initialize a step counter\n",
        "steps = 0\n",
        "\n",
        "# Run the game until all living cells have died\n",
        "while True:\n",
        "    game.make_step()\n",
        "    current_state = game.get_grid()\n",
        "    steps += 1\n",
        "\n",
        "    # Check if all cells have died (grid is all zeros)\n",
        "    if all(cell == 0 for row in current_state for cell in row):\n",
        "        break\n",
        "\n",
        "print(f\"Number of steps for all living cells to die: {steps}\")\n"
      ],
      "metadata": {
        "colab": {
          "base_uri": "https://localhost:8080/"
        },
        "id": "lTCdK0gyRKgg",
        "outputId": "17ec4f70-ad0f-4f35-fa8f-6cb0b9a4a76c"
      },
      "id": "lTCdK0gyRKgg",
      "execution_count": 48,
      "outputs": [
        {
          "output_type": "stream",
          "name": "stdout",
          "text": [
            "Number of steps for all living cells to die: 6\n"
          ]
        }
      ]
    }
  ],
  "metadata": {
    "kernelspec": {
      "display_name": "Python 3 (ipykernel)",
      "language": "python",
      "name": "python3"
    },
    "language_info": {
      "codemirror_mode": {
        "name": "ipython",
        "version": 3
      },
      "file_extension": ".py",
      "mimetype": "text/x-python",
      "name": "python",
      "nbconvert_exporter": "python",
      "pygments_lexer": "ipython3",
      "version": "3.8.8"
    },
    "colab": {
      "provenance": [],
      "include_colab_link": true
    }
  },
  "nbformat": 4,
  "nbformat_minor": 5
}